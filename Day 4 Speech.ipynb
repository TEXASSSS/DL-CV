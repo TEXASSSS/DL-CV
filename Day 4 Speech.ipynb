{
 "cells": [
  {
   "cell_type": "code",
   "execution_count": 1,
   "id": "b48c0924",
   "metadata": {},
   "outputs": [],
   "source": [
    "import speech_recognition as sr #该库为使用各种语音识别引擎执行语音识别任务提供了一个简单的接口。"
   ]
  },
  {
   "cell_type": "code",
   "execution_count": 2,
   "id": "c6c4fad7",
   "metadata": {},
   "outputs": [],
   "source": [
    "a = sr.AudioFile(r\"C:/Users/MOJITO/Desktop/lecture/NTU AI/Slides/Day 4/Speech_and_Text_Notes-20230717/Welcome.wav\")"
   ]
  },
  {
   "cell_type": "markdown",
   "id": "486021c1",
   "metadata": {},
   "source": [
    "初始化了一个名为 a 的 AudioFile 对象，其路径为音频文件 "
   ]
  },
  {
   "cell_type": "code",
   "execution_count": 4,
   "id": "15f5a7fc",
   "metadata": {},
   "outputs": [],
   "source": [
    "with a as source:\n",
    "    a = sr.Recognizer().record(source)"
   ]
  },
  {
   "cell_type": "markdown",
   "id": "87c3733a",
   "metadata": {},
   "source": [
    "使用AudioFile对象加载音频文件\n",
    " 从源文件中记录音频数据"
   ]
  },
  {
   "cell_type": "code",
   "execution_count": 6,
   "id": "12c27978",
   "metadata": {},
   "outputs": [],
   "source": [
    "r = sr.Recognizer().recognize_google(a)"
   ]
  },
  {
   "cell_type": "code",
   "execution_count": 7,
   "id": "8d4fa07f",
   "metadata": {},
   "outputs": [
    {
     "data": {
      "text/plain": [
       "\"thank you for choosing the Olympus dictation management system the Olympus dictation management system gives you the power to manage your dictations transcriptions and documents seamlessly and to improve the productivity of your daily work for example you can automatically send the dictation files or transcribe documents to your assistant or the author via email or FTP if you're using the speech recognition software the speech recognition engine works in the background to support your document creation we hope you enjoy the simple flexible reliable and Secure Solutions from Olympus\""
      ]
     },
     "execution_count": 7,
     "metadata": {},
     "output_type": "execute_result"
    }
   ],
   "source": [
    "r"
   ]
  },
  {
   "cell_type": "code",
   "execution_count": 9,
   "id": "67986f87",
   "metadata": {},
   "outputs": [
    {
     "name": "stdout",
     "output_type": "stream",
     "text": [
      "Accessing Microphone..\n",
      "Waiting for you to speak...\n",
      "Please retry...\n"
     ]
    }
   ],
   "source": [
    "import speech_recognition as sr\n",
    "\n",
    "print(\"Accessing Microphone..\")\n",
    "\n",
    "with sr.Microphone() as source:   \n",
    "    sr.Recognizer().adjust_for_ambient_noise(source, duration=2)          \n",
    "    print(\"Waiting for you to speak...\")\n",
    "    audio = sr.Recognizer().listen(source)                   \n",
    "try:\n",
    "    print(\"You said \" + sr.Recognizer().recognize_google(audio))    \n",
    "except:\n",
    "    print(\"Please retry...\")\n"
   ]
  },
  {
   "cell_type": "code",
   "execution_count": 11,
   "id": "97ea08a9",
   "metadata": {},
   "outputs": [],
   "source": [
    "import pyttsx3"
   ]
  },
  {
   "cell_type": "code",
   "execution_count": 12,
   "id": "0d4823de",
   "metadata": {},
   "outputs": [],
   "source": [
    "model = pyttsx3.init()"
   ]
  },
  {
   "cell_type": "code",
   "execution_count": 14,
   "id": "16d11903",
   "metadata": {},
   "outputs": [],
   "source": [
    "model.say(\"Hello World\")\n",
    "model.runAndWait()"
   ]
  },
  {
   "cell_type": "code",
   "execution_count": null,
   "id": "bc4036f2",
   "metadata": {},
   "outputs": [],
   "source": []
  }
 ],
 "metadata": {
  "kernelspec": {
   "display_name": "Python 3 (ipykernel)",
   "language": "python",
   "name": "python3"
  },
  "language_info": {
   "codemirror_mode": {
    "name": "ipython",
    "version": 3
   },
   "file_extension": ".py",
   "mimetype": "text/x-python",
   "name": "python",
   "nbconvert_exporter": "python",
   "pygments_lexer": "ipython3",
   "version": "3.11.3"
  }
 },
 "nbformat": 4,
 "nbformat_minor": 5
}
