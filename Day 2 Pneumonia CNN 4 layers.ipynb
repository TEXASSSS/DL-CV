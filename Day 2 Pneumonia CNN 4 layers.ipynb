{
 "cells": [
  {
   "cell_type": "code",
   "execution_count": 1,
   "id": "950cfaaf",
   "metadata": {},
   "outputs": [],
   "source": [
    "from keras.preprocessing.image import ImageDataGenerator"
   ]
  },
  {
   "cell_type": "code",
   "execution_count": 2,
   "id": "341da858",
   "metadata": {},
   "outputs": [],
   "source": [
    "train  = \"D:/DL Data/archive/chest_xray/train\""
   ]
  },
  {
   "cell_type": "code",
   "execution_count": 3,
   "id": "1c1c154a",
   "metadata": {},
   "outputs": [
    {
     "name": "stdout",
     "output_type": "stream",
     "text": [
      "Found 5216 images belonging to 2 classes.\n"
     ]
    }
   ],
   "source": [
    "train_data = ImageDataGenerator().flow_from_directory(train, (150, 150), batch_size=5, shuffle= False)"
   ]
  },
  {
   "cell_type": "code",
   "execution_count": 4,
   "id": "3066e877",
   "metadata": {},
   "outputs": [],
   "source": [
    "test = \"D:/DL Data/archive/chest_xray/test\""
   ]
  },
  {
   "cell_type": "code",
   "execution_count": 5,
   "id": "cff658a6",
   "metadata": {},
   "outputs": [
    {
     "name": "stdout",
     "output_type": "stream",
     "text": [
      "Found 624 images belonging to 2 classes.\n"
     ]
    }
   ],
   "source": [
    "test_data = ImageDataGenerator().flow_from_directory(test, (150, 150), batch_size=5, shuffle= False)"
   ]
  },
  {
   "cell_type": "code",
   "execution_count": 6,
   "id": "09d4f117",
   "metadata": {},
   "outputs": [],
   "source": [
    "from keras.models import Sequential"
   ]
  },
  {
   "cell_type": "markdown",
   "id": "d8e4cc81",
   "metadata": {},
   "source": [
    "通过调用Sequential()函数，将创建一个Sequential类实例并将其分配给变量模型。这个实例将作为一个容器，您可以在其中添加不同的层来构建您的CNN模型。"
   ]
  },
  {
   "cell_type": "code",
   "execution_count": 7,
   "id": "d7076d21",
   "metadata": {},
   "outputs": [],
   "source": [
    "from keras.layers import Conv2D, MaxPooling2D, Dropout, Flatten, Dense"
   ]
  },
  {
   "cell_type": "code",
   "execution_count": 8,
   "id": "c7fe1e7e",
   "metadata": {},
   "outputs": [],
   "source": [
    "model = Sequential()"
   ]
  },
  {
   "cell_type": "code",
   "execution_count": 9,
   "id": "f7bd1412",
   "metadata": {},
   "outputs": [],
   "source": [
    "model.add(Conv2D(32, (3, 3), input_shape=(150, 150, 3), activation=\"relu\"))\n",
    "model.add(MaxPooling2D((2, 2)))\n",
    "model.add(Dropout(0.2))"
   ]
  },
  {
   "cell_type": "markdown",
   "id": "bae434e3",
   "metadata": {},
   "source": [
    "该行为模型添加了一个二维卷积层。Conv2D 层对输入数据进行卷积运算。传递给 Conv2D 的参数有\n",
    "32：层中的滤波器（也称为通道）数量。这意味着该层将输出32个特征图。\n",
    "(3, 3): 卷积核或滤波器的大小。这里是 3x3 内核，表示该层将用 32 个不同的 3x3 过滤器对输入进行卷积。\n",
    "input_shape=(150, 150, 3)： 输入数据的形状。在本例中，它希望输入的图像大小为150x150，有3个颜色通道（RGB图像）。\n",
    "activation=\"relu\"： 应用于层输出的逐元素激活函数。这里使用的是整流线性单元（ReLU）激活，它将非线性引入网络。\n",
    "\n",
    "MaxPooling将二维最大集合层添加到模型中。MaxPooling2D 层通过取每个集合窗口内的最大值来减少输入的空间尺寸（宽度和高度）。参数 (2, 2) 表示池化窗口大小为 2x2。\n",
    "\n",
    "Dropout为模型添加了一个剔除层。剔除层会在每一步训练中随机将一部分输入单元设置为 0。参数0.2指定了丢弃率，这意味着在训练过程中将有20%的输入单元被设置为0，这有助于防止过拟合。"
   ]
  },
  {
   "cell_type": "code",
   "execution_count": 10,
   "id": "e38bd9c1",
   "metadata": {},
   "outputs": [],
   "source": [
    "model.add(Conv2D(32, (3, 3), activation=\"relu\"))\n",
    "model.add(MaxPooling2D((2, 2)))\n",
    "model.add(Dropout(0.2))"
   ]
  },
  {
   "cell_type": "code",
   "execution_count": 11,
   "id": "6e8dc624",
   "metadata": {},
   "outputs": [],
   "source": [
    "model.add(Conv2D(64, (3, 3), activation=\"relu\"))\n",
    "model.add(MaxPooling2D((2, 2)))\n",
    "model.add(Dropout(0.2))"
   ]
  },
  {
   "cell_type": "code",
   "execution_count": 12,
   "id": "7a337725",
   "metadata": {},
   "outputs": [],
   "source": [
    "model.add(Conv2D(64, (3, 3), activation=\"relu\"))\n",
    "model.add(MaxPooling2D((2, 2)))\n",
    "model.add(Dropout(0.2))"
   ]
  },
  {
   "cell_type": "code",
   "execution_count": 13,
   "id": "be5f46a0",
   "metadata": {},
   "outputs": [],
   "source": [
    "model.add(Flatten())"
   ]
  },
  {
   "cell_type": "markdown",
   "id": "afe32643",
   "metadata": {},
   "source": [
    "代码段`model.add(Flatten())`为神经网络中的模型添加了一个 \"Flatten \"层。\n",
    "\n",
    "Flatten \"层是Keras中的一个简单实用层，用于将输入数据转换为一维数组。它通常在网络架构中从卷积层过渡到全连接层时使用。\n",
    "\n",
    "在使用CNN时，早期层通常负责使用卷积和池化操作从输入数据中提取空间特征。然而，后续层（通常是全连接层）需要一维输入。这就是 \"扁平化 \"层发挥作用的地方。\n",
    "\n",
    "通过在模型中添加 \"model.add(Flatten())\"，可以确保上一层（可能是卷积层或池化层）的输出在传递到下一层之前被扁平化为一维数组。这种扁平化操作保留了从上一层获得的信息，但将其重塑为适合全连接层的格式。\n",
    "\n",
    "添加 \"Flatten \"层后，您可以继续添加其他层，如密集层、剔除层等，这取决于您想为神经网络创建的具体架构。"
   ]
  },
  {
   "cell_type": "code",
   "execution_count": 14,
   "id": "10dda0c5",
   "metadata": {},
   "outputs": [
    {
     "name": "stdout",
     "output_type": "stream",
     "text": [
      "Model: \"sequential\"\n",
      "_________________________________________________________________\n",
      " Layer (type)                Output Shape              Param #   \n",
      "=================================================================\n",
      " conv2d (Conv2D)             (None, 148, 148, 32)      896       \n",
      "                                                                 \n",
      " max_pooling2d (MaxPooling2  (None, 74, 74, 32)        0         \n",
      " D)                                                              \n",
      "                                                                 \n",
      " dropout (Dropout)           (None, 74, 74, 32)        0         \n",
      "                                                                 \n",
      " conv2d_1 (Conv2D)           (None, 72, 72, 32)        9248      \n",
      "                                                                 \n",
      " max_pooling2d_1 (MaxPoolin  (None, 36, 36, 32)        0         \n",
      " g2D)                                                            \n",
      "                                                                 \n",
      " dropout_1 (Dropout)         (None, 36, 36, 32)        0         \n",
      "                                                                 \n",
      " conv2d_2 (Conv2D)           (None, 34, 34, 64)        18496     \n",
      "                                                                 \n",
      " max_pooling2d_2 (MaxPoolin  (None, 17, 17, 64)        0         \n",
      " g2D)                                                            \n",
      "                                                                 \n",
      " dropout_2 (Dropout)         (None, 17, 17, 64)        0         \n",
      "                                                                 \n",
      " conv2d_3 (Conv2D)           (None, 15, 15, 64)        36928     \n",
      "                                                                 \n",
      " max_pooling2d_3 (MaxPoolin  (None, 7, 7, 64)          0         \n",
      " g2D)                                                            \n",
      "                                                                 \n",
      " dropout_3 (Dropout)         (None, 7, 7, 64)          0         \n",
      "                                                                 \n",
      " flatten (Flatten)           (None, 3136)              0         \n",
      "                                                                 \n",
      "=================================================================\n",
      "Total params: 65568 (256.12 KB)\n",
      "Trainable params: 65568 (256.12 KB)\n",
      "Non-trainable params: 0 (0.00 Byte)\n",
      "_________________________________________________________________\n"
     ]
    }
   ],
   "source": [
    "model.summary()"
   ]
  },
  {
   "cell_type": "markdown",
   "id": "e5f2efa3",
   "metadata": {},
   "source": [
    "model.summary() \"函数提供了模型架构的摘要，包括层名称、输出形状和可训练参数的数量。通过在Keras模型上调用该函数，您可以获得网络结构的简明概览。\n",
    "\n",
    "输出将显示模型中每一层的以下信息：\n",
    "\n",
    "1. 层（类型）： 模型中层的类型。\n",
    "2. 输出形状： 层产生的输出形状。\n",
    "3. Param #：层中可训练参数的数量。\n",
    "4. 连接到： 表示与当前层相连的层。\n",
    "\n",
    "摘要提供了对模型的有用概述，允许您快速检查层的大小，检查任何意外的输出形状，并获得需要训练的参数总数的概念。\n",
    "\n",
    "值得注意的是，您应该在构建和编译模型后调用 `model.summary()`。它将显示模型中所有层的详细信息，并提供对模型复杂度和参数数量的粗略估计，这对于了解模型的容量和潜在的过拟合非常有用。"
   ]
  },
  {
   "cell_type": "code",
   "execution_count": 15,
   "id": "9d70780c",
   "metadata": {},
   "outputs": [],
   "source": [
    "model.add(Dense(128,activation=\"relu\"))\n",
    "model.add(Dropout(0.2))"
   ]
  },
  {
   "cell_type": "markdown",
   "id": "87ed7694",
   "metadata": {},
   "source": [
    "1. 密集层：\n",
    "   使用`Dense`类为模型添加了一个全连接层。Dense \"层是神经网络中的一种标准层类型，其中每个神经元都与上一层中的每个神经元相连。传给`Dense`的参数是\n",
    "   - `128`: 层中神经元或单元的数量。\n",
    "   - `activation=\"relu\"`： 应用于层输出的激活函数，在本例中是整流线性单元（ReLU）。ReLU引入非线性，帮助模型学习数据中的复杂模式。\n",
    "\n",
    "2. 剔除层\n",
    "   这一行为模型添加了另一个Dropout层。Dropout层在每个训练步骤中随机地将一部分输入单元设置为0，以减少过拟合。参数`0.2`指定了剔除率，表示在训练过程中将有20%的输入单元被随机设置为0。\n",
    "\n",
    "通过向模型添加这些层，可以扩展模型的架构。密集层引入了额外的隐藏单元来捕捉数据中更复杂的模式，而丢弃层则通过在训练过程中随机丢弃一部分单元来防止过拟合。"
   ]
  },
  {
   "cell_type": "code",
   "execution_count": 16,
   "id": "db4e9bfa",
   "metadata": {},
   "outputs": [],
   "source": [
    "model.add(Dense(2,activation=\"softmax\"))"
   ]
  },
  {
   "cell_type": "markdown",
   "id": "6a2a988c",
   "metadata": {},
   "source": [
    "`为模型添加了另一个稠密层，但配置不同：\n",
    "1. 使用Softmax激活的密集层：\n",
    "   这一行为模型添加了一个全连接层，有2个输出单元。Dense \"层用于创建一个全连接的神经网络层，其中每个神经元都与上一层中的每个神经元相连。参数 \"2 \"指定了层中单元或神经元的数量，表示该层将输出2个类别的概率分布。\n",
    "   该层使用的激活函数是 \"softmax\"。Softmax激活常用于多类分类问题，将最终层的输出转换为概率分布。它可确保输出值归一化并和为1，代表输入属于每个类别的概率。\n",
    "\n",
    "通过添加具有软最大激活功能的密集层，您可以将模型配置为具有两个类别的多类分类任务。 该层的输出将是两个类别的概率分布，表示输入属于每个类别的可能性。\n",
    "请记住，神经网络的架构可以根据具体问题和数据特征而变化。 您可以修改单元数、添加或删除层数，并尝试使用不同的激活函数来定制符合您特定要求的模型。"
   ]
  },
  {
   "cell_type": "code",
   "execution_count": 17,
   "id": "f0a0b7a0",
   "metadata": {},
   "outputs": [
    {
     "name": "stdout",
     "output_type": "stream",
     "text": [
      "Model: \"sequential\"\n",
      "_________________________________________________________________\n",
      " Layer (type)                Output Shape              Param #   \n",
      "=================================================================\n",
      " conv2d (Conv2D)             (None, 148, 148, 32)      896       \n",
      "                                                                 \n",
      " max_pooling2d (MaxPooling2  (None, 74, 74, 32)        0         \n",
      " D)                                                              \n",
      "                                                                 \n",
      " dropout (Dropout)           (None, 74, 74, 32)        0         \n",
      "                                                                 \n",
      " conv2d_1 (Conv2D)           (None, 72, 72, 32)        9248      \n",
      "                                                                 \n",
      " max_pooling2d_1 (MaxPoolin  (None, 36, 36, 32)        0         \n",
      " g2D)                                                            \n",
      "                                                                 \n",
      " dropout_1 (Dropout)         (None, 36, 36, 32)        0         \n",
      "                                                                 \n",
      " conv2d_2 (Conv2D)           (None, 34, 34, 64)        18496     \n",
      "                                                                 \n",
      " max_pooling2d_2 (MaxPoolin  (None, 17, 17, 64)        0         \n",
      " g2D)                                                            \n",
      "                                                                 \n",
      " dropout_2 (Dropout)         (None, 17, 17, 64)        0         \n",
      "                                                                 \n",
      " conv2d_3 (Conv2D)           (None, 15, 15, 64)        36928     \n",
      "                                                                 \n",
      " max_pooling2d_3 (MaxPoolin  (None, 7, 7, 64)          0         \n",
      " g2D)                                                            \n",
      "                                                                 \n",
      " dropout_3 (Dropout)         (None, 7, 7, 64)          0         \n",
      "                                                                 \n",
      " flatten (Flatten)           (None, 3136)              0         \n",
      "                                                                 \n",
      " dense (Dense)               (None, 128)               401536    \n",
      "                                                                 \n",
      " dropout_4 (Dropout)         (None, 128)               0         \n",
      "                                                                 \n",
      " dense_1 (Dense)             (None, 2)                 258       \n",
      "                                                                 \n",
      "=================================================================\n",
      "Total params: 467362 (1.78 MB)\n",
      "Trainable params: 467362 (1.78 MB)\n",
      "Non-trainable params: 0 (0.00 Byte)\n",
      "_________________________________________________________________\n"
     ]
    }
   ],
   "source": [
    "model.summary()"
   ]
  },
  {
   "cell_type": "code",
   "execution_count": 18,
   "id": "b7363c77",
   "metadata": {},
   "outputs": [],
   "source": [
    "model.compile(loss=\"categorical_crossentropy\", optimizer=\"adam\", metrics=[\"accuracy\"])"
   ]
  },
  {
   "cell_type": "markdown",
   "id": "8d1b47a3",
   "metadata": {},
   "source": [
    "代码段`model.compile(loss=\"categorical_crossentropy\", optimizer=\"adam\", metrics=[\"accuracy\"])`用于使用特定设置编译模型以进行训练。\n",
    "\n",
    "下面是`compile`函数中每个参数的作用：\n",
    "\n",
    "1. 损失函数：\n",
    "   loss \"参数指定了训练过程中使用的损失函数。在本例中，选择`\"categorical_crossentropy\"。分类交叉熵通常用作多类分类问题的损失函数，其中目标变量使用单次编码表示。\n",
    "\n",
    "2. 优化器\n",
    "   参数 \"optimizer \"指定了在训练过程中用于更新模型权重和偏置的优化算法。这里使用的是 \"adam\"，代表自适应矩估计。Adam是一种流行的优化算法，可以根据损失函数的梯度动态调整学习率，因此适用于多种问题。\n",
    "\n",
    "3. 度量：\n",
    "   metrics \"参数是一个评估指标列表，用于监测模型在训练过程中的表现。在本例中，该列表包含一个指标 \"accuracy\"。准确率指标是分类任务中常用的评估指标，用于衡量正确预测样本的百分比。\n",
    "\n",
    "模型编译完成后，就可以进行训练了。在训练过程中，模型将使用指定的优化器以最小化所选损失函数为目标。它还将根据提供的指标跟踪性能。\n",
    "\n",
    "您可以根据问题的具体要求修改这些编译设置。根据任务性质、数据类型和其他因素，不同的损失函数、优化器和指标可能更适合您。"
   ]
  },
  {
   "cell_type": "code",
   "execution_count": 22,
   "id": "af58766b",
   "metadata": {},
   "outputs": [
    {
     "name": "stdout",
     "output_type": "stream",
     "text": [
      "Epoch 1/5\n",
      "1044/1044 [==============================] - 136s 129ms/step - loss: 2.7232 - accuracy: 0.7398\n",
      "Epoch 2/5\n",
      "1044/1044 [==============================] - 140s 134ms/step - loss: 0.3957 - accuracy: 0.8294\n",
      "Epoch 3/5\n",
      "1044/1044 [==============================] - 122s 117ms/step - loss: 0.4052 - accuracy: 0.8470\n",
      "Epoch 4/5\n",
      "1044/1044 [==============================] - 130s 124ms/step - loss: 0.2977 - accuracy: 0.8706\n",
      "Epoch 5/5\n",
      "1044/1044 [==============================] - 135s 130ms/step - loss: 0.2919 - accuracy: 0.9015\n"
     ]
    }
   ],
   "source": [
    "h = model.fit(train_data, batch_size=5, epochs=5)"
   ]
  },
  {
   "cell_type": "code",
   "execution_count": 23,
   "id": "4b9b0176",
   "metadata": {},
   "outputs": [],
   "source": [
    "import matplotlib.pyplot as plt"
   ]
  },
  {
   "cell_type": "code",
   "execution_count": 25,
   "id": "7719241c",
   "metadata": {},
   "outputs": [
    {
     "data": {
      "text/plain": [
       "[<matplotlib.lines.Line2D at 0x22e81716010>]"
      ]
     },
     "execution_count": 25,
     "metadata": {},
     "output_type": "execute_result"
    },
    {
     "data": {
      "image/png": "[encoded data removed]",
      "text/plain": [
       "<Figure size 640x480 with 1 Axes>"
      ]
     },
     "metadata": {},
     "output_type": "display_data"
    }
   ],
   "source": [
    "plt.plot(h.history[\"loss\"])"
   ]
  },
  {
   "cell_type": "code",
   "execution_count": 26,
   "id": "45d08435",
   "metadata": {},
   "outputs": [
    {
     "name": "stdout",
     "output_type": "stream",
     "text": [
      "125/125 [==============================] - 12s 97ms/step\n"
     ]
    }
   ],
   "source": [
    "pred = model.predict(test_data)"
   ]
  },
  {
   "cell_type": "markdown",
   "id": "810bde66",
   "metadata": {},
   "source": [
    "代码段 \"pred = model.predict(test_data) \"用于从训练有素的模型中获取给定测试数据集的预测结果。\n",
    "1. 模型\"： 指您之前编译和训练的训练模型。\n",
    "\n",
    "2. `test_data`： 代表您要进行预测的输入数据。测试数据的格式应与模型预期的输入形状兼容。\n",
    "   重要的是要确保测试数据以与训练数据相同的方式进行预处理（例如，归一化、调整大小），以保持一致性。\n",
    "\n",
    "3. model.predict(test_data)`： 调用模型对象上的`predict()`函数，将测试数据作为参数传递。该函数使用训练有素的模型对给定的测试数据生成预测。\n",
    "   model.predict()`的输出将是一个预测值或概率数组，具体取决于您要解决的问题类型。\n",
    "   如果您正在处理分类任务，输出将是每个类的预测概率数组。数组中的每个元素对应测试数据中的一个特定实例。\n",
    "   如果您正在处理回归任务，输出将是一个预测值数组。\n",
    "   无论哪种情况，`pred`的形状都取决于测试数据的大小和输出类或目标变量的数量。\n",
    "\n",
    "执行代码后，变量`pred`将包含模型针对给定测试数据生成的预测值。您可以进一步分析、评估或比较这些预测与地面实况标签或目标，以评估模型的性能。"
   ]
  },
  {
   "cell_type": "code",
   "execution_count": 27,
   "id": "6f7cc05c",
   "metadata": {},
   "outputs": [],
   "source": [
    "import numpy as np\n",
    "pred = np.argmax(pred,axis=1)"
   ]
  },
  {
   "cell_type": "markdown",
   "id": "f8561933",
   "metadata": {},
   "source": [
    "代码段 \"pred = np.argmax(pred, axis=1) \"用于从模型生成的预测概率或值中获取预测的类标签。\n",
    "\n",
    "np.argmax(pred,axis=1)`： 调用`numpy`中的`argmax()`函数来获取沿指定轴的最大值的索引。在本例中，`axis=1`表示沿第二个轴（列）执行操作。\n",
    "\n",
    "   通过沿第二个轴应用`argmax()`，代码确定了测试数据中每个实例的最高预测值的索引。该索引对应于预测的类标签。\n",
    "\n",
    "   得到的数组`pred`将包含测试数据的预测类标签。\n",
    "\n",
    "需要注意的是，`argmax()`返回的是最大值的索引，而不是实际的类标签。因此，输出数组`pred`将包含代表预测类别的数值。您可能需要根据具体问题和数据集，将这些数值标签映射回相应的类名或标签。\n",
    "\n",
    "通过使用`np.argmax(pred, axis=1)`，您可以将预测的概率或值转换为预测的类标签，以便进一步分析、评估或与基本真实标签或目标进行比较。"
   ]
  },
  {
   "cell_type": "code",
   "execution_count": 30,
   "id": "b78d885c",
   "metadata": {},
   "outputs": [],
   "source": [
    "from sklearn.metrics import confusion_matrix"
   ]
  },
  {
   "cell_type": "code",
   "execution_count": 33,
   "id": "793b1e65",
   "metadata": {},
   "outputs": [],
   "source": [
    "cm = confusion_matrix(test_data.classes,pred)"
   ]
  },
  {
   "cell_type": "markdown",
   "id": "df02d0c4",
   "metadata": {},
   "source": [
    "代码段`cm = confusion_matrix(test_data.classes, pred)`计算真实类标签(`test_data.classes`)和预测类标签(`pred`)之间的混淆矩阵。\n",
    "下面解释一下这段代码是如何工作的：\n",
    "\n",
    "1. 混淆矩阵 指scikit-learn库提供的计算混淆矩阵的函数。\n",
    "\n",
    "2. `test_data.classes`： 代表测试数据的真实类标签。假设`test_data`是一个数据生成器或数据对象，其`classes`属性包含真实类标签。\n",
    "\n",
    "3. 预测 代表从模型中得到的预测类标签，通常使用`np.argmax(pred, axis=1)`或类似方法。预测类标签的顺序应该与真实类标签的顺序相同。\n",
    "\n",
    "通过调用`confusion_matrix(test_data.classes, pred)`，代码会比较真实类标签和预测类标签，并计算一个称为混淆矩阵的正方形矩阵。矩阵的行代表真实类标签，列代表预测类标签。\n",
    "混淆矩阵的元素表示属于某一真实类别的样本数和被预测属于某一预测类别的样本数。通过该矩阵可以了解模型在正确分类和错误分类样本方面的性能。\n",
    "得到的混淆矩阵存储在变量 \"cm \"中，可对其进行进一步分析或可视化，以评估模型的性能，识别误分类模式，并得出各种性能指标，如准确率、精确度、召回率和F1-分数。"
   ]
  },
  {
   "cell_type": "code",
   "execution_count": 34,
   "id": "5ac181d9",
   "metadata": {},
   "outputs": [
    {
     "data": {
      "text/plain": [
       "array([[121, 113],\n",
       "       [ 25, 365]], dtype=int64)"
      ]
     },
     "execution_count": 34,
     "metadata": {},
     "output_type": "execute_result"
    }
   ],
   "source": [
    "cm"
   ]
  },
  {
   "cell_type": "code",
   "execution_count": 35,
   "id": "f30075d1",
   "metadata": {},
   "outputs": [
    {
     "name": "stdout",
     "output_type": "stream",
     "text": [
      "accuracy is 0.7788461538461539\n"
     ]
    }
   ],
   "source": [
    "print(\"accuracy is\", (cm[0,0]+cm[1,1])/sum(sum(cm)))"
   ]
  },
  {
   "cell_type": "markdown",
   "id": "05f5eae3",
   "metadata": {},
   "source": [
    "代码段`print(\"accuracy is\", (cm[0,0]+cm[1,1])/sum(sum(cm))` 根据混淆矩阵(`cm`)计算并打印准确度指标。）\n",
    "\n",
    "1. (cm[0,0]+cm[1,1])`： 这部分对混淆矩阵(`cm`)的对角元素求和。在混淆矩阵中，对角元素代表正确分类的样本。\n",
    "\n",
    "   cm[0,0]`代表真阴性（TN）或正确分类为阴性类的样本数。\n",
    "\n",
    "   cm[1,1]`代表真阳性（TP）或正确分类为阳性类的样本数。\n",
    "\n",
    "   将这些对角元素相加，就得到了正确分类的样本总数。\n",
    "\n",
    "2. sum(sum(cm))\"： 这部分计算混淆矩阵中所有元素的总和，代表样本总数。\n",
    "\n",
    "   sum(cm) \"计算混淆矩阵各行的和，从而得到每个真类中的样本数。\n",
    "\n",
    "   然后，`sum(sum(cm))`计算所有行向和的总和，得出样本总数。\n",
    "\n",
    "3. (cm[0,0]+cm[1,1])/sum(sum(cm))`： 将正确分类的样本总数除以样本总数，即为准确度指标。\n",
    "\n",
    "   准确度指标表示正确分类的样本占样本总数的比例。\n",
    "\n",
    "4. `print(\"accuracy is\", (cm[0,0]+cm[1,1])/sum(sum(cm)))`： 最后，使用`print()`函数打印出精度值以及说明性信息。\n",
    "\n",
    "通过执行这段代码，您可以根据所提供的混淆矩阵获得并显示模型的准确度。准确度度量了模型在正确分类样本方面的整体表现。"
   ]
  }
 ],
 "metadata": {
  "kernelspec": {
   "display_name": "Python 3 (ipykernel)",
   "language": "python",
   "name": "python3"
  },
  "language_info": {
   "codemirror_mode": {
    "name": "ipython",
    "version": 3
   },
   "file_extension": ".py",
   "mimetype": "text/x-python",
   "name": "python",
   "nbconvert_exporter": "python",
   "pygments_lexer": "ipython3",
   "version": "3.11.3"
  }
 },
 "nbformat": 4,
 "nbformat_minor": 5
}
