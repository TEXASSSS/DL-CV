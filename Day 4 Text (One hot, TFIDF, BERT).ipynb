{
 "cells": [
  {
   "cell_type": "code",
   "execution_count": 1,
   "id": "a87b82df",
   "metadata": {
    "scrolled": false
   },
   "outputs": [],
   "source": [
    "from textblob import TextBlob"
   ]
  },
  {
   "cell_type": "code",
   "execution_count": 2,
   "id": "d3afdd3a",
   "metadata": {},
   "outputs": [
    {
     "name": "stdout",
     "output_type": "stream",
     "text": [
      "Please enter the text:happ\n"
     ]
    }
   ],
   "source": [
    "q = input(\"Please enter the text:\")"
   ]
  },
  {
   "cell_type": "code",
   "execution_count": 3,
   "id": "3c68f92d",
   "metadata": {},
   "outputs": [
    {
     "name": "stdout",
     "output_type": "stream",
     "text": [
      "Sentiment(polarity=0.0, subjectivity=0.0)\n"
     ]
    }
   ],
   "source": [
    "print(TextBlob(q).sentiment)"
   ]
  },
  {
   "cell_type": "code",
   "execution_count": 4,
   "id": "50988e13",
   "metadata": {},
   "outputs": [],
   "source": [
    "import pandas as pd"
   ]
  },
  {
   "cell_type": "code",
   "execution_count": 5,
   "id": "32baae34",
   "metadata": {},
   "outputs": [],
   "source": [
    "df = pd.read_csv(r\"C:/Users/MOJITO/Desktop/lecture/NTU AI/Slides/Day 4/Speech_and_Text_Notes-20230717/spam (Text) for orange.csv\")"
   ]
  },
  {
   "cell_type": "code",
   "execution_count": 6,
   "id": "d8c16acb",
   "metadata": {},
   "outputs": [],
   "source": [
    "X = df[\"CONTENT\"]\n",
    "Y = df[\"SPAM\"]"
   ]
  },
  {
   "cell_type": "code",
   "execution_count": 7,
   "id": "e77e94e4",
   "metadata": {},
   "outputs": [],
   "source": [
    "from sklearn.feature_extraction.text import CountVectorizer"
   ]
  },
  {
   "cell_type": "code",
   "execution_count": 8,
   "id": "d35de341",
   "metadata": {},
   "outputs": [],
   "source": [
    "X_CV = CountVectorizer().fit_transform(X)"
   ]
  },
  {
   "cell_type": "code",
   "execution_count": 9,
   "id": "1d94a7ca",
   "metadata": {},
   "outputs": [
    {
     "data": {
      "text/plain": [
       "<5572x8709 sparse matrix of type '<class 'numpy.int64'>'\n",
       "\twith 74098 stored elements in Compressed Sparse Row format>"
      ]
     },
     "execution_count": 9,
     "metadata": {},
     "output_type": "execute_result"
    }
   ],
   "source": [
    "X_CV"
   ]
  },
  {
   "cell_type": "code",
   "execution_count": 10,
   "id": "028955ff",
   "metadata": {},
   "outputs": [],
   "source": [
    "from sklearn.model_selection import train_test_split\n",
    "from sklearn.metrics import confusion_matrix\n",
    "from sklearn.linear_model import LogisticRegression\n",
    "from sklearn import ensemble"
   ]
  },
  {
   "cell_type": "code",
   "execution_count": 11,
   "id": "9d7401f8",
   "metadata": {},
   "outputs": [
    {
     "name": "stdout",
     "output_type": "stream",
     "text": [
      "[[1211    2]\n",
      " [  27  153]]\n",
      "Accuracy without TFIDF is  0.9791816223977028\n"
     ]
    }
   ],
   "source": [
    "X_train, X_test, Y_train, Y_test = train_test_split(X_CV, Y)\n",
    "model = LogisticRegression()\n",
    "model.fit(X_train, Y_train)\n",
    "pred = model.predict(X_test)\n",
    "cm=confusion_matrix(Y_test, pred)\n",
    "print(cm)\n",
    "acc=(cm[0,0]+cm[1,1])/sum(sum(cm))\n",
    "print('Accuracy without TFIDF is ', acc)"
   ]
  },
  {
   "cell_type": "code",
   "execution_count": 12,
   "id": "4cfa9821",
   "metadata": {},
   "outputs": [
    {
     "name": "stdout",
     "output_type": "stream",
     "text": [
      "[[1213    0]\n",
      " [  38  142]]\n",
      "Accuracy without TFIDF is  0.9727207465900933\n"
     ]
    }
   ],
   "source": [
    "model = ensemble.RandomForestClassifier()\n",
    "model.fit(X_train, Y_train)\n",
    "pred = model.predict(X_test)\n",
    "cm=confusion_matrix(Y_test, pred)\n",
    "print(cm)\n",
    "acc=(cm[0,0]+cm[1,1])/sum(sum(cm))\n",
    "print('Accuracy without TFIDF is ', acc)"
   ]
  },
  {
   "cell_type": "code",
   "execution_count": 13,
   "id": "873d2636",
   "metadata": {},
   "outputs": [],
   "source": [
    "from sklearn.feature_extraction.text import TfidfTransformer"
   ]
  },
  {
   "cell_type": "code",
   "execution_count": 14,
   "id": "4d339842",
   "metadata": {},
   "outputs": [],
   "source": [
    "X_train = TfidfTransformer().fit_transform(X_train)"
   ]
  },
  {
   "cell_type": "code",
   "execution_count": 15,
   "id": "94252c54",
   "metadata": {},
   "outputs": [],
   "source": [
    "X_test = TfidfTransformer().fit_transform(X_test)"
   ]
  },
  {
   "cell_type": "code",
   "execution_count": 16,
   "id": "20ff592e",
   "metadata": {},
   "outputs": [
    {
     "data": {
      "text/plain": [
       "<4179x8709 sparse matrix of type '<class 'numpy.float64'>'\n",
       "\twith 55771 stored elements in Compressed Sparse Row format>"
      ]
     },
     "execution_count": 16,
     "metadata": {},
     "output_type": "execute_result"
    }
   ],
   "source": [
    "X_train"
   ]
  },
  {
   "cell_type": "code",
   "execution_count": 17,
   "id": "47249445",
   "metadata": {},
   "outputs": [
    {
     "name": "stdout",
     "output_type": "stream",
     "text": [
      "[[1210    4]\n",
      " [  22  157]]\n",
      "Accuracy with TFIDF is  0.9813352476669059\n"
     ]
    }
   ],
   "source": [
    "X_train, X_test, Y_train, Y_test = train_test_split(X_CV, Y)\n",
    "model = LogisticRegression()\n",
    "model.fit(X_train, Y_train)\n",
    "pred = model.predict(X_test)\n",
    "cm=confusion_matrix(Y_test, pred)\n",
    "print(cm)\n",
    "acc=(cm[0,0]+cm[1,1])/sum(sum(cm))\n",
    "print('Accuracy with TFIDF is ', acc)"
   ]
  },
  {
   "cell_type": "code",
   "execution_count": 18,
   "id": "2ad306e2",
   "metadata": {},
   "outputs": [
    {
     "name": "stdout",
     "output_type": "stream",
     "text": [
      "[[1212    2]\n",
      " [  26  153]]\n",
      "Accuracy with TFIDF is  0.9798994974874372\n"
     ]
    }
   ],
   "source": [
    "model = ensemble.RandomForestClassifier()\n",
    "model.fit(X_train, Y_train)\n",
    "pred = model.predict(X_test)\n",
    "cm=confusion_matrix(Y_test, pred)\n",
    "print(cm)\n",
    "acc=(cm[0,0]+cm[1,1])/sum(sum(cm))\n",
    "print('Accuracy with TFIDF is ', acc)"
   ]
  },
  {
   "cell_type": "code",
   "execution_count": 19,
   "id": "306de204",
   "metadata": {},
   "outputs": [],
   "source": [
    "from sentence_transformers import SentenceTransformer"
   ]
  },
  {
   "cell_type": "code",
   "execution_count": 20,
   "id": "d91c777e",
   "metadata": {},
   "outputs": [],
   "source": [
    "model = SentenceTransformer('bert-base-nli-mean-tokens')"
   ]
  },
  {
   "cell_type": "code",
   "execution_count": 21,
   "id": "ecf77d0c",
   "metadata": {},
   "outputs": [],
   "source": [
    "X_bert = model.encode(X)"
   ]
  },
  {
   "cell_type": "code",
   "execution_count": 22,
   "id": "c66aa694",
   "metadata": {
    "scrolled": true
   },
   "outputs": [
    {
     "data": {
      "text/plain": [
       "array([[ 0.22050568,  0.2599657 ,  1.225875  , ..., -0.19872397,\n",
       "         0.5879919 , -0.07510579],\n",
       "       [ 0.34306562,  0.25109184,  1.7299985 , ...,  0.12130548,\n",
       "         0.34931996,  0.2205923 ],\n",
       "       [-1.0374186 ,  0.7675856 ,  1.2479769 , ...,  0.04645469,\n",
       "         0.44673648,  0.95130104],\n",
       "       ...,\n",
       "       [-0.05629906,  0.02633081,  1.8031619 , ...,  0.1250096 ,\n",
       "        -0.33973387,  0.17344324],\n",
       "       [-0.30574158, -0.2067655 ,  0.95200235, ...,  0.8162919 ,\n",
       "        -0.06555745,  0.37663952],\n",
       "       [ 0.25440854, -0.22606559,  1.7392159 , ...,  0.34476784,\n",
       "        -0.21240988,  0.38669977]], dtype=float32)"
      ]
     },
     "execution_count": 22,
     "metadata": {},
     "output_type": "execute_result"
    }
   ],
   "source": [
    "X_bert"
   ]
  },
  {
   "cell_type": "code",
   "execution_count": 23,
   "id": "e675e91f",
   "metadata": {},
   "outputs": [],
   "source": [
    "X_train, X_test, Y_train, Y_test = train_test_split(X_bert, Y)"
   ]
  },
  {
   "cell_type": "code",
   "execution_count": 24,
   "id": "2559977c",
   "metadata": {},
   "outputs": [
    {
     "name": "stdout",
     "output_type": "stream",
     "text": [
      "[[1225    6]\n",
      " [  11  151]]\n",
      "Accuracy is  0.9877961234745154\n"
     ]
    },
    {
     "name": "stderr",
     "output_type": "stream",
     "text": [
      "C:\\Users\\MOJITO\\AppData\\Roaming\\Python\\Python311\\site-packages\\sklearn\\linear_model\\_logistic.py:444: ConvergenceWarning: lbfgs failed to converge (status=1):\n",
      "STOP: TOTAL NO. of ITERATIONS REACHED LIMIT.\n",
      "\n",
      "Increase the number of iterations (max_iter) or scale the data as shown in:\n",
      "    https://scikit-learn.org/stable/modules/preprocessing.html\n",
      "Please also refer to the documentation for alternative solver options:\n",
      "    https://scikit-learn.org/stable/modules/linear_model.html#logistic-regression\n",
      "  n_iter_i = _check_optimize_result(\n"
     ]
    }
   ],
   "source": [
    "model = LogisticRegression()\n",
    "model.fit(X_train, Y_train)\n",
    "pred = model.predict(X_test)\n",
    "cm=confusion_matrix(Y_test, pred)\n",
    "print(cm)\n",
    "acc=(cm[0,0]+cm[1,1])/sum(sum(cm))\n",
    "print('Accuracy is ', acc)"
   ]
  },
  {
   "cell_type": "code",
   "execution_count": 25,
   "id": "65bd21f4",
   "metadata": {},
   "outputs": [
    {
     "name": "stdout",
     "output_type": "stream",
     "text": [
      "[[1229    2]\n",
      " [  36  126]]\n",
      "Accuracy is  0.9727207465900933\n"
     ]
    }
   ],
   "source": [
    "model = ensemble.RandomForestClassifier()\n",
    "model.fit(X_train, Y_train)\n",
    "pred = model.predict(X_test)\n",
    "cm=confusion_matrix(Y_test, pred)\n",
    "print(cm)\n",
    "acc=(cm[0,0]+cm[1,1])/sum(sum(cm))\n",
    "print('Accuracy is ', acc)"
   ]
  },
  {
   "cell_type": "code",
   "execution_count": null,
   "id": "e3e04973",
   "metadata": {},
   "outputs": [],
   "source": []
  }
 ],
 "metadata": {
  "kernelspec": {
   "display_name": "Python 3 (ipykernel)",
   "language": "python",
   "name": "python3"
  },
  "language_info": {
   "codemirror_mode": {
    "name": "ipython",
    "version": 3
   },
   "file_extension": ".py",
   "mimetype": "text/x-python",
   "name": "python",
   "nbconvert_exporter": "python",
   "pygments_lexer": "ipython3",
   "version": "3.11.3"
  }
 },
 "nbformat": 4,
 "nbformat_minor": 5
}
