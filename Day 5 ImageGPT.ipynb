{
 "cells": [
  {
   "cell_type": "code",
   "execution_count": 1,
   "id": "64da2f52",
   "metadata": {},
   "outputs": [],
   "source": [
    "import replicate"
   ]
  },
  {
   "cell_type": "code",
   "execution_count": 3,
   "id": "5490ce0a",
   "metadata": {},
   "outputs": [],
   "source": [
    "import os"
   ]
  },
  {
   "cell_type": "code",
   "execution_count": 4,
   "id": "5d27b173",
   "metadata": {},
   "outputs": [],
   "source": [
    "os.environ[\"REPLICATE_API_TOKEN\"] = \"r8_4sfSCOyL8QGIpMTBVrCYhYQbccWvUH130jPco\""
   ]
  },
  {
   "cell_type": "code",
   "execution_count": 5,
   "id": "9ed397b9",
   "metadata": {},
   "outputs": [],
   "source": [
    "model = replicate.models.get(\"tstramer/midjourney-diffusion\")"
   ]
  },
  {
   "cell_type": "code",
   "execution_count": 6,
   "id": "23529aee",
   "metadata": {},
   "outputs": [],
   "source": [
    "version = model.versions.get(\"436b051ebd8f68d23e83d22de5e198e0995357afef113768c20f0b6fcef23c8b\")"
   ]
  },
  {
   "cell_type": "code",
   "execution_count": 7,
   "id": "de641427",
   "metadata": {},
   "outputs": [
    {
     "name": "stdout",
     "output_type": "stream",
     "text": [
      "Please describe the image you wanthello\n"
     ]
    }
   ],
   "source": [
    "q = input(\"Please describe the image you want\")"
   ]
  },
  {
   "cell_type": "code",
   "execution_count": 8,
   "id": "f1a7adc0",
   "metadata": {},
   "outputs": [],
   "source": [
    "inputs = {\"prompt\": q}"
   ]
  },
  {
   "cell_type": "code",
   "execution_count": 9,
   "id": "3769b212",
   "metadata": {},
   "outputs": [],
   "source": [
    "output = version.predict(**inputs)"
   ]
  },
  {
   "cell_type": "code",
   "execution_count": 10,
   "id": "c795a38a",
   "metadata": {},
   "outputs": [
    {
     "data": {
      "text/plain": [
       "['https://replicate.delivery/pbxt/4sJmigwdOgoJJ9TZ20kDei9n7Ynyifm5veilkDZwHT6zH2hiA/out-0.png']"
      ]
     },
     "execution_count": 10,
     "metadata": {},
     "output_type": "execute_result"
    }
   ],
   "source": [
    "output"
   ]
  },
  {
   "cell_type": "code",
   "execution_count": 11,
   "id": "67a1fd3c",
   "metadata": {},
   "outputs": [],
   "source": [
    "from PIL import Image\n",
    "import requests"
   ]
  },
  {
   "cell_type": "code",
   "execution_count": 12,
   "id": "2ac22fbf",
   "metadata": {},
   "outputs": [],
   "source": [
    "image = Image.open(requests.get(output[0], stream=True).raw)"
   ]
  },
  {
   "cell_type": "code",
   "execution_count": 15,
   "id": "1799c5b9",
   "metadata": {},
   "outputs": [],
   "source": [
    "image.show()"
   ]
  },
  {
   "cell_type": "code",
   "execution_count": null,
   "id": "d9faac01",
   "metadata": {},
   "outputs": [],
   "source": []
  }
 ],
 "metadata": {
  "kernelspec": {
   "display_name": "Python 3 (ipykernel)",
   "language": "python",
   "name": "python3"
  },
  "language_info": {
   "codemirror_mode": {
    "name": "ipython",
    "version": 3
   },
   "file_extension": ".py",
   "mimetype": "text/x-python",
   "name": "python",
   "nbconvert_exporter": "python",
   "pygments_lexer": "ipython3",
   "version": "3.11.3"
  }
 },
 "nbformat": 4,
 "nbformat_minor": 5
}
